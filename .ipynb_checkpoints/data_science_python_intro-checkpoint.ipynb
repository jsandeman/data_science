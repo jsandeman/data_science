{
 "cells": [
  {
   "cell_type": "code",
   "execution_count": 2,
   "metadata": {},
   "outputs": [
    {
     "name": "stdout",
     "output_type": "stream",
     "text": [
      "Average app rating: 4.2\n"
     ]
    }
   ],
   "source": [
    "row_1 = ['Facebook', 0.0, 'USD', 2974676, 3.5]\n",
    "row_2 = ['Instagram', 0.0, 'USD', 2161558, 4.5]\n",
    "row_3 = ['Clash of Clans', 0.0, 'USD', 2130805, 4.5]\n",
    "row_4 = ['Temple Run', 0.0, 'USD', 1724546, 4.5]\n",
    "row_5 = ['Pandora - Music & Radio', 0.0, 'USD', 1126879, 4.0]\n",
    "\n",
    "app_data_set = [row_1, row_2, row_3, row_4, row_5]\n",
    "avg_rating = 0.0\n",
    "rating_sum = 0.0\n",
    "for row in app_data_set:\n",
    "    rating_sum += row[-1]\n",
    "avg_rating = rating_sum / len(app_data_set)\n",
    "print(f'Average app rating: {avg_rating}')"
   ]
  },
  {
   "cell_type": "code",
   "execution_count": null,
   "metadata": {},
   "outputs": [],
   "source": []
  }
 ],
 "metadata": {
  "kernelspec": {
   "display_name": "Python 3",
   "language": "python",
   "name": "python3"
  },
  "language_info": {
   "codemirror_mode": {
    "name": "ipython",
    "version": 3
   },
   "file_extension": ".py",
   "mimetype": "text/x-python",
   "name": "python",
   "nbconvert_exporter": "python",
   "pygments_lexer": "ipython3",
   "version": "3.7.6"
  }
 },
 "nbformat": 4,
 "nbformat_minor": 4
}
